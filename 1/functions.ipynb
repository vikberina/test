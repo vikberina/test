{
 "cells": [
  {
   "cell_type": "code",
   "execution_count": 1,
   "metadata": {},
   "outputs": [],
   "source": [
    "documents = [\n",
    "    {'type': 'passport', 'number': '2207 876234', 'name': 'Василий Гупкин'},\n",
    "    {'type': 'invoice', 'number': '11-2', 'name': 'Геннадий Покемонов'},\n",
    "    {'type': 'insurance', 'number': '10006', 'name': 'Аристарх Павлов'}\n",
    "]"
   ]
  },
  {
   "cell_type": "code",
   "execution_count": 2,
   "metadata": {},
   "outputs": [],
   "source": [
    "directories = {\n",
    "'1': ['2207 876234', '11-2'],\n",
    "'2': ['10006'],\n",
    "'3': []\n",
    "}"
   ]
  },
  {
   "cell_type": "code",
   "execution_count": 3,
   "metadata": {},
   "outputs": [
    {
     "name": "stdout",
     "output_type": "stream",
     "text": [
      "Введите номер документа: 11-2\n",
      "Владелец документа:  Геннадий Покемонов\n"
     ]
    }
   ],
   "source": [
    "def p(document_number):\n",
    "    for x in documents:\n",
    "        if x['number'] == document_number:\n",
    "            return x['name']\n",
    "        \n",
    "document_number = input(\"Введите номер документа: \")\n",
    "print ('Владелец документа: ', p(document_number))"
   ]
  },
  {
   "cell_type": "code",
   "execution_count": 4,
   "metadata": {},
   "outputs": [
    {
     "name": "stdout",
     "output_type": "stream",
     "text": [
      "Введите номер документа: 11-2\n",
      "Документ хранится на полке:  1\n"
     ]
    }
   ],
   "source": [
    "def s(document_number):\n",
    "    for k in directories:\n",
    "        if document_number in directories[k]:\n",
    "            return k\n",
    "    return \"document undefined\"\n",
    "\n",
    "document_number = input(\"Введите номер документа: \")\n",
    "print('Документ хранится на полке: ' , s(document_number))"
   ]
  },
  {
   "cell_type": "code",
   "execution_count": 5,
   "metadata": {},
   "outputs": [],
   "source": [
    "def l():\n",
    "    for x in documents:\n",
    "        type = x['type']\n",
    "        number = x['number']\n",
    "        name = x['name']\n",
    "        print(x[\"number\"], x[\"type\"], x[\"name\"])"
   ]
  },
  {
   "cell_type": "code",
   "execution_count": 6,
   "metadata": {},
   "outputs": [],
   "source": [
    "#никак не получается\n",
    "def add(directories, documents):\n",
    "    x = list(input(\"Введите номер полки\"))\n",
    "    documents.append({\"number\": x[0]})\n",
    "    directories[x[0]].append(x[1])\n",
    "    for value in directories:\n",
    "        if x in directories:\n",
    "            print(directories)"
   ]
  },
  {
   "cell_type": "code",
   "execution_count": 7,
   "metadata": {},
   "outputs": [
    {
     "name": "stdout",
     "output_type": "stream",
     "text": [
      "Введите номер полки1\n",
      "Полка удалена\n"
     ]
    }
   ],
   "source": [
    "#и этот тоже\n",
    "def stage_del(number_stage):\n",
    "    for key, value in directories.items():\n",
    "        if (len(value) == 0):\n",
    "            print('Полка удалена')\n",
    "\n",
    "number_stage = input('Введите номер полки')\n",
    "stage_del(number_stage)"
   ]
  },
  {
   "cell_type": "code",
   "execution_count": 8,
   "metadata": {},
   "outputs": [
    {
     "name": "stdout",
     "output_type": "stream",
     "text": [
      "Введите команду: p\n",
      "Введите номер документа: 10006\n",
      "Владелец документа:  Аристарх Павлов\n",
      "Введите команду: s\n",
      "Введите номер документа: 11-2\n",
      "Документ хранится на полке:  1\n",
      "Введите команду: l\n",
      "2207 876234 passport Василий Гупкин\n",
      "11-2 invoice Геннадий Покемонов\n",
      "10006 insurance Аристарх Павлов\n",
      "Введите команду: q\n",
      "Завершение программы\n"
     ]
    }
   ],
   "source": [
    "while True:\n",
    "    a = input('Введите команду: ')\n",
    "    if a == 'p':\n",
    "        b = input('Введите номер документа: ')\n",
    "        result = p(b)\n",
    "        print('Владелец документа: ',result)\n",
    "    \n",
    "    if a == 's':\n",
    "        b = input('Введите номер документа: ')\n",
    "        result = s(b)\n",
    "        print('Документ хранится на полке: ',result)\n",
    "        \n",
    "    if a == 'l':    \n",
    "        l()\n",
    "    \n",
    "    if a == 'as':\n",
    "        add(directories, documents)\n",
    "        \n",
    "    if a == 'ds':\n",
    "        stage_del(number_stage)\n",
    "        \n",
    "    if a == 'q':\n",
    "        print('Завершение программы')\n",
    "        break"
   ]
  },
  {
   "cell_type": "code",
   "execution_count": null,
   "metadata": {},
   "outputs": [],
   "source": []
  },
  {
   "cell_type": "code",
   "execution_count": null,
   "metadata": {},
   "outputs": [],
   "source": []
  }
 ],
 "metadata": {
  "kernelspec": {
   "display_name": "Python 3",
   "language": "python",
   "name": "python3"
  },
  "language_info": {
   "codemirror_mode": {
    "name": "ipython",
    "version": 3
   },
   "file_extension": ".py",
   "mimetype": "text/x-python",
   "name": "python",
   "nbconvert_exporter": "python",
   "pygments_lexer": "ipython3",
   "version": "3.8.5"
  }
 },
 "nbformat": 4,
 "nbformat_minor": 4
}
