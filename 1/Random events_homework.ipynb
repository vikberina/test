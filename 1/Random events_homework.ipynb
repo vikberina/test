{
 "cells": [
  {
   "cell_type": "code",
   "execution_count": 1,
   "metadata": {},
   "outputs": [
    {
     "data": {
      "text/plain": [
       "0.2052052052052052"
      ]
     },
     "execution_count": 1,
     "metadata": {},
     "output_type": "execute_result"
    }
   ],
   "source": [
    "#вероятность получения выигрыша от 1 до 200 руб.\n",
    "1/999 + 1/999 + 1/999 + 1/999 + 1/999 + 9/999 + 91/999 + 10/999 + 90/999"
   ]
  },
  {
   "cell_type": "code",
   "execution_count": 2,
   "metadata": {},
   "outputs": [
    {
     "data": {
      "text/plain": [
       "0.8038038038038038"
      ]
     },
     "execution_count": 2,
     "metadata": {},
     "output_type": "execute_result"
    }
   ],
   "source": [
    "#среднее значение выигрыша\n",
    "200/999+100/999+50/999+15/999+10/999+45/999+273/999+20/999+90/999+0*(1-(1/999 + 1/999 + 1/999 + 1/999 + 1/999 + 9/999 + 91/999 + 10/999 + 90/999))"
   ]
  },
  {
   "cell_type": "code",
   "execution_count": 3,
   "metadata": {},
   "outputs": [],
   "source": [
    "#игра не выгодна для игрока, так как средняя потеря - 19,7 копейки за игру"
   ]
  },
  {
   "cell_type": "code",
   "execution_count": 4,
   "metadata": {},
   "outputs": [
    {
     "name": "stdout",
     "output_type": "stream",
     "text": [
      "удача: 203594, попыток: 1000000, вероятность эмпирическая: 0.203594 и теоретическая: 0.2052\n",
      "потрачено: 1000000, заработано: 706280, средний выигрыш: -0.29 и теоретический: 0.197\n",
      "CPU times: user 3.43 s, sys: 70.9 ms, total: 3.51 s\n",
      "Wall time: 3.67 s\n"
     ]
    }
   ],
   "source": [
    "%%time\n",
    "#модель\n",
    "import numpy as np\n",
    "\n",
    "trials = 1000000    # Количество попыток\n",
    "successes = 0    # Количество успехов\n",
    "#выигрыш\n",
    "gain = 0\n",
    "#проигрыш\n",
    "pain = 0\n",
    "\n",
    "for i in range(trials):\n",
    "    random_score = np.random.randint(1, 1000)\n",
    "    pain += 1\n",
    "    if random_score == 777:\n",
    "        successes += 1\n",
    "        gain += 200\n",
    "    elif random_score == 999:\n",
    "        successes += 1\n",
    "        gain += 100\n",
    "    elif random_score == 555:\n",
    "        successes += 1\n",
    "        gain += 50\n",
    "    elif random_score == 333:\n",
    "        successes += 1\n",
    "        gain += 15\n",
    "    elif random_score == 111:\n",
    "        successes += 1\n",
    "        gain += 10\n",
    "    elif random_score in [77, 177, 277, 377, 477, 577, 677, 877, 977]:\n",
    "        successes += 1\n",
    "        gain += 5\n",
    "    elif random_score in [0, 100, 200, 300, 400, 500, 600, 700, 800, 900]:\n",
    "        successes += 1\n",
    "        gain += 3\n",
    "    elif (random_score - 7) % 10 == 0:\n",
    "        successes += 1\n",
    "        gain += 2\n",
    "    elif random_score % 10 == 0:\n",
    "        successes += 1\n",
    "        gain += 1\n",
    "             \n",
    "#Вероятность из моделирования\n",
    "p_monte_carlo = successes / trials    \n",
    "\n",
    "# Теоретическая вероятность\n",
    "p = 0.2052                             \n",
    "\n",
    "print(f'удача: {successes}, попыток: {trials}, вероятность эмпирическая: {p_monte_carlo} и теоретическая: {p}')\n",
    "print(f'потрачено: {pain}, заработано: {gain}, средний выигрыш: {round((gain-pain)/trials, 2)} и теоретический: 0.197')"
   ]
  },
  {
   "cell_type": "code",
   "execution_count": null,
   "metadata": {},
   "outputs": [],
   "source": []
  }
 ],
 "metadata": {
  "kernelspec": {
   "display_name": "Python 3",
   "language": "python",
   "name": "python3"
  },
  "language_info": {
   "codemirror_mode": {
    "name": "ipython",
    "version": 3
   },
   "file_extension": ".py",
   "mimetype": "text/x-python",
   "name": "python",
   "nbconvert_exporter": "python",
   "pygments_lexer": "ipython3",
   "version": "3.8.5"
  }
 },
 "nbformat": 4,
 "nbformat_minor": 4
}
