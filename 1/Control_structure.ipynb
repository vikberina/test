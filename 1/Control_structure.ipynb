{
 "cells": [
  {
   "cell_type": "code",
   "execution_count": 1,
   "metadata": {},
   "outputs": [
    {
     "name": "stdout",
     "output_type": "stream",
     "text": [
      "Введите слово:test\n",
      "es\n"
     ]
    }
   ],
   "source": [
    "# Задание 1\n",
    "ent_Str = input(\"Введите слово:\")\n",
    "fst_Str = len(ent_Str)\n",
    "mid = len(ent_Str) // 2\n",
    "if fst_Str % 2 == 0:\n",
    "    print (f'{ent_Str[mid-1]}{ent_Str[mid]}')\n",
    "elif fst_Str % 2 !=0:\n",
    "    print(ent_Str[int(mid)])"
   ]
  },
  {
   "cell_type": "code",
   "execution_count": 15,
   "metadata": {},
   "outputs": [
    {
     "name": "stdout",
     "output_type": "stream",
     "text": [
      "5\n",
      "3\n",
      "8\n",
      "0\n",
      "результат: 16\n"
     ]
    }
   ],
   "source": [
    "# Задание 2\n",
    "# число:\n",
    "n = 0\n",
    "# сумма:\n",
    "sum_n = 0\n",
    "while True:\n",
    "    a = int(input())\n",
    "    # Если 0:\n",
    "    if a == 0:\n",
    "        break\n",
    "    else:\n",
    "        sum_n += a\n",
    "print('результат:', sum_n)\n"
   ]
  },
  {
   "cell_type": "code",
   "execution_count": 44,
   "metadata": {},
   "outputs": [
    {
     "name": "stdout",
     "output_type": "stream",
     "text": [
      "Thailand - 23.9 C\n",
      "Germany - 13.8 C\n",
      "Russia - 3.7 C\n",
      "Poland - 12.0 C\n"
     ]
    }
   ],
   "source": [
    "# Задание 4\n",
    "сountries_temperature = [['Thailand', [75.2, 77, 78.8, 73.4, 68, 75.2, 77]],\n",
    "    ['Germany', [57.2, 55.4, 59, 59, 53.6]],\n",
    "    ['Russia', [35.6, 37.4, 39.2, 41, 42.8, 39.2, 35.6]],\n",
    "    ['Poland', [50, 50, 53.6, 57.2, 55.4, 55.4]]]\n",
    "\n",
    "for i in countries_temperature:\n",
    "    print(i[0], '-', round((sum(i[1]) / len(i[1]) - 32) / 1.8, 1), 'C')"
   ]
  },
  {
   "cell_type": "code",
   "execution_count": 42,
   "metadata": {},
   "outputs": [
    {
     "name": "stdout",
     "output_type": "stream",
     "text": [
      "Идеальные пары:\n",
      "1 Alex и Emma\n",
      "2 Arthur и Kate\n",
      "3 John и Kira\n",
      "4 Peter и Liza\n",
      "5 Richard и Trisha\n"
     ]
    }
   ],
   "source": [
    "# Задание 3\n",
    "boys = ['Peter', 'Alex', 'John', 'Arthur', 'Richard']\n",
    "girls = ['Kate', 'Liza', 'Kira', 'Emma', 'Trisha']\n",
    "\n",
    "boys.sort(), girls.sort()\n",
    "boys_girls = zip(boys,girls)\n",
    "\n",
    "print('Идеальные пары:')\n",
    "for i, name in enumerate(boys_girls):\n",
    "    print(i+1, name[0], 'и', name[1])"
   ]
  },
  {
   "cell_type": "code",
   "execution_count": null,
   "metadata": {},
   "outputs": [],
   "source": []
  }
 ],
 "metadata": {
  "kernelspec": {
   "display_name": "Python 3",
   "language": "python",
   "name": "python3"
  },
  "language_info": {
   "codemirror_mode": {
    "name": "ipython",
    "version": 3
   },
   "file_extension": ".py",
   "mimetype": "text/x-python",
   "name": "python",
   "nbconvert_exporter": "python",
   "pygments_lexer": "ipython3",
   "version": "3.8.5"
  }
 },
 "nbformat": 4,
 "nbformat_minor": 4
}
