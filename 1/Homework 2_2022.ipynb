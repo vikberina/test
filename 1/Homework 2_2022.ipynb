{
 "cells": [
  {
   "cell_type": "code",
   "execution_count": 1,
   "id": "9888d07c",
   "metadata": {},
   "outputs": [
    {
     "name": "stdout",
     "output_type": "stream",
     "text": [
      "Введите слово Lenta\n",
      "n\n"
     ]
    }
   ],
   "source": [
    "# задание 1\n",
    "phrase_1 = input('Введите слово ')\n",
    "fst_Str = len(phrase_1)\n",
    "mid = len(phrase_1) // 2\n",
    "if fst_Str % 2 == 0:\n",
    "    print (f'{phrase_1[mid-1]}{phrase_1[mid]}') \n",
    "elif fst_Str % 2 !=0:\n",
    "    print(f'{phrase_1[mid]}')"
   ]
  },
  {
   "cell_type": "code",
   "execution_count": 2,
   "id": "c2ed1f9e",
   "metadata": {},
   "outputs": [
    {
     "name": "stdout",
     "output_type": "stream",
     "text": [
      "69 \n",
      "68\n",
      "54\n",
      "0\n",
      "результат: 191\n"
     ]
    }
   ],
   "source": [
    "# задание 2\n",
    "x = 0\n",
    "sum_x = 0\n",
    "while True:\n",
    "    a = int(input())\n",
    "    if a == 0:\n",
    "        break\n",
    "    else:\n",
    "        sum_x += a\n",
    "print('результат:', sum_x)"
   ]
  },
  {
   "cell_type": "code",
   "execution_count": 3,
   "id": "a8f67da7",
   "metadata": {},
   "outputs": [
    {
     "name": "stdout",
     "output_type": "stream",
     "text": [
      "Лучшие пары:\n",
      "Alex и Emma\n",
      "Arthur и Kate\n",
      "John и Kira\n",
      "Peter и Liza\n",
      "Richard и Trisha\n"
     ]
    }
   ],
   "source": [
    "# задание 3\n",
    "boys = ['Peter', 'Alex', 'John', 'Arthur', 'Richard']\n",
    "girls = ['Kate', 'Liza', 'Kira', 'Emma', 'Trisha']\n",
    "if len(boys) != len(girls):\n",
    " print('Внимание, кто-то может остаться без пары!')\n",
    "else:\n",
    " print('Лучшие пары:')\n",
    " for boy, girl in zip(sorted(boys), sorted(girls)):\n",
    "   print(f'{boy} и {girl}')"
   ]
  },
  {
   "cell_type": "code",
   "execution_count": 4,
   "id": "3bbf1b0f",
   "metadata": {},
   "outputs": [
    {
     "name": "stdout",
     "output_type": "stream",
     "text": [
      "Thailand - 23.9 C\n",
      "Germany - 13.8 C\n",
      "Russia - 3.7 C\n",
      "Poland - 12.0 C\n"
     ]
    }
   ],
   "source": [
    "# задание 4\n",
    "countries_temperature = [['Thailand', [75.2, 77, 78.8, 73.4, 68, 75.2, 77]],\n",
    "    ['Germany', [57.2, 55.4, 59, 59, 53.6]],\n",
    "    ['Russia', [35.6, 37.4, 39.2, 41, 42.8, 39.2, 35.6]],\n",
    "    ['Poland', [50, 50, 53.6, 57.2, 55.4, 55.4]]]\n",
    "\n",
    "for i in countries_temperature:\n",
    "    print(i[0], '-', round((sum(i[1]) / len(i[1]) - 32) / 1.8, 1), 'C')"
   ]
  },
  {
   "cell_type": "code",
   "execution_count": 5,
   "id": "e2a676b8",
   "metadata": {},
   "outputs": [
    {
     "name": "stdout",
     "output_type": "stream",
     "text": [
      "Cреднее значение просмотров на пользователя: 23.25\n"
     ]
    }
   ],
   "source": [
    "# задание 5\n",
    "stream = [\n",
    "'2018-01-01,user1,3',\n",
    "'2018-01-07,user1,4',\n",
    "'2018-03-29,user1,1',\n",
    "'2018-04-04,user1,13',\n",
    "'2018-01-05,user2,7',\n",
    "'2018-06-14,user3,4',\n",
    "'2018-07-02,user3,10',\n",
    "'2018-03-21,user4,19',\n",
    "'2018-03-22,user4,4',\n",
    "'2018-04-22,user4,8',\n",
    "'2018-05-03,user4,9',\n",
    "'2018-05-11,user4,11',\n",
    "]\n",
    "views_count = 0\n",
    "users = []\n",
    "for one in stream:\n",
    "    r = one.split(',')\n",
    "    views_count += int(r[2])\n",
    "    if r[1] not in users:\n",
    "        users.append(r[1])\n",
    "print('Cреднее значение просмотров на пользователя:',round(views_count/len(users),2))"
   ]
  },
  {
   "cell_type": "code",
   "execution_count": 6,
   "id": "b85a48f4",
   "metadata": {},
   "outputs": [
    {
     "name": "stdout",
     "output_type": "stream",
     "text": [
      "Cреднее значение просмотров на пользователя: 145.33\n"
     ]
    }
   ],
   "source": [
    "stream = [\n",
    "'2018-01-01,user100,150',\n",
    "'2018-01-07,user99,205',\n",
    "'2018-03-29,user1001,81'\n",
    "]\n",
    "views_count = 0\n",
    "users = []\n",
    "for one in stream:\n",
    "    r = one.split(',')\n",
    "    views_count += int(r[2])\n",
    "    if r[1] not in users:\n",
    "        users.append(r[1])\n",
    "print('Cреднее значение просмотров на пользователя:',round(views_count/len(users),2))"
   ]
  },
  {
   "cell_type": "code",
   "execution_count": 7,
   "id": "38ac9bbd",
   "metadata": {},
   "outputs": [
    {
     "name": "stdout",
     "output_type": "stream",
     "text": [
      "Введите числa через пробел:79 86 79 55 55 43\n",
      "Результат: 79 55\n"
     ]
    }
   ],
   "source": [
    "# задание 6\n",
    "string=str(input('Введите числa через пробел:'))\n",
    "spisok=string.split(' ')\n",
    "spisok_dublei=[]\n",
    "for i in set(spisok):\n",
    "    if spisok.count(i) > 1:\n",
    "         spisok_dublei.append(i)\n",
    "spisok_dublei\n",
    "if len(spisok_dublei)>0:\n",
    "    print('Результат:', ' '.join(spisok_dublei))\n",
    "else:\n",
    "    print('Повторяющихся чисел нет')"
   ]
  },
  {
   "cell_type": "code",
   "execution_count": null,
   "id": "27fb9303",
   "metadata": {},
   "outputs": [],
   "source": []
  }
 ],
 "metadata": {
  "kernelspec": {
   "display_name": "Python 3 (ipykernel)",
   "language": "python",
   "name": "python3"
  },
  "language_info": {
   "codemirror_mode": {
    "name": "ipython",
    "version": 3
   },
   "file_extension": ".py",
   "mimetype": "text/x-python",
   "name": "python",
   "nbconvert_exporter": "python",
   "pygments_lexer": "ipython3",
   "version": "3.9.7"
  }
 },
 "nbformat": 4,
 "nbformat_minor": 5
}
