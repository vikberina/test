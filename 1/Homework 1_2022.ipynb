{
 "cells": [
  {
   "cell_type": "code",
   "execution_count": 1,
   "id": "03e96a2f",
   "metadata": {},
   "outputs": [
    {
     "name": "stdout",
     "output_type": "stream",
     "text": [
      "Введите фразу 1 Насколько проще было бы писать программы, если бы не заказчики\n",
      "Введите фразу 2 Насколько проще было бы писать программы, если бы не заказчики\n",
      "Фразы равной длины\n"
     ]
    }
   ],
   "source": [
    "# задание 1\n",
    "phrase_1 = input('Введите фразу 1 ')\n",
    "phrase_2 = input('Введите фразу 2 ')\n",
    "\n",
    "if len(phrase_1) > len(phrase_2):\n",
    "    print('Фраза 1 длиннее фразы 2')\n",
    "elif len(phrase_2) > len(phrase_1):\n",
    "    print('Фраза 2 длиннее фразы 1')\n",
    "elif len(phrase_2) == len(phrase_1):\n",
    "    print('Фразы равной длины')"
   ]
  },
  {
   "cell_type": "code",
   "execution_count": 2,
   "id": "239c8265",
   "metadata": {},
   "outputs": [
    {
     "name": "stdout",
     "output_type": "stream",
     "text": [
      "Введите год 2020\n",
      "Високосный год\n"
     ]
    }
   ],
   "source": [
    "# Задание 2\n",
    "year = int (input('Введите год '))\n",
    "\n",
    "if (year % 4 == 0 and year % 100 != 0) or (year % 400 == 0):\n",
    "    print ('Високосный год')\n",
    "else:\n",
    "    print ('Обычный год')"
   ]
  },
  {
   "cell_type": "code",
   "execution_count": 3,
   "id": "ed2734e6",
   "metadata": {},
   "outputs": [
    {
     "name": "stdout",
     "output_type": "stream",
     "text": [
      "Введите день 18\n",
      "Введите месяц 01\n",
      "Ваш знак зодиака: Козерог\n"
     ]
    }
   ],
   "source": [
    "# задание 3\n",
    "date = int (input('Введите день '))\n",
    "month = int (input('Введите месяц '))\n",
    "if (date >= 21 and date <= 31 and month == 3) or (month == 4 and date >= 1 and date <= 20):\n",
    "   print (\"Ваш знак зодиака: Овен\")\n",
    "elif (date >= 21 and date <= 30 and month == 4) or (month == 5 and date >= 1 and date <= 21):\n",
    "   print (\"Ваш знак зодиака: Телец\")\n",
    "elif (date >= 22 and date <= 31 and month == 5) or (month == 6 and date >= 1 and date <= 21):\n",
    "   print (\"Ваш знак зодиака: Близнецы\")\n",
    "elif (date >= 22 and date <= 30 and month == 6) or (month == 7 and date >= 1 and date <= 22):\n",
    "   print (\"Ваш знак зодиака: Рак\")\n",
    "elif (date >= 23 and date <= 31 and month == 7) or (month == 8 and date >= 1 and date <= 22):\n",
    "   print (\"Ваш знак зодиака: Лев\")\n",
    "elif (date >= 23 and date <= 31 and month == 8) or (month == 9 and date >= 1 and date <= 22):\n",
    "   print (\"Ваш знак зодиака: Дева\")\n",
    "elif (date >= 23 and date <= 30 and month == 9) or (month == 10 and date >= 1 and date <= 22):\n",
    "   print (\"Ваш знак зодиака: Весы\")\n",
    "elif (date >= 23 and date <= 31 and month == 10) or (month == 11 and date >= 1 and date <= 22):\n",
    "   print (\"Ваш знак зодиака: Скорпион\")\n",
    "elif (date >= 23 and date <= 30 and month == 11) or (month == 12 and date >= 1 and date <= 21):\n",
    "   print (\"Ваш знак зодиака: Стрелец\")\n",
    "elif (date >= 22 and date <= 31 and month == 12) or (month == 1 and date >= 1 and date <= 20):\n",
    "   print (\"Ваш знак зодиака: Козерог\")\n",
    "elif (date >= 21 and date <= 31 and month == 1) or (month == 2 and date >= 1 and date <= 19):\n",
    "   print (\"Ваш знак зодиака: Водолей\")\n",
    "elif (date >= 20 and date <= 29 and month == 2) or (month == 3 and date >= 1 and date <= 20):\n",
    "   print (\"Ваш знак зодиака: Рыбы\")"
   ]
  },
  {
   "cell_type": "code",
   "execution_count": 4,
   "id": "bac08609",
   "metadata": {},
   "outputs": [
    {
     "name": "stdout",
     "output_type": "stream",
     "text": [
      "Введите ширину 45\n",
      "Введите длину 205\n",
      "Введите высоту 45\n",
      "Упаковка для лыж\n"
     ]
    }
   ],
   "source": [
    "width = int (input('Введите ширину '))\n",
    "length = int (input('Введите длину '))\n",
    "height = int (input('Введите высоту '))\n",
    "if (length > 200) or (width > 15 and width < 50) or (height > 15 and height < 50):\n",
    "    print (\"Упаковка для лыж\")\n",
    "elif (length <= 15 and width <= 15 and height <= 15):\n",
    "    print (\"Коробка №1\")\n",
    "elif (length > 15 and length < 50) or (width > 15 and width < 50) or (height > 15 and height < 50):\n",
    "    print (\"Коробка №2\")\n",
    "else:\n",
    "    print (\"Стандартная коробка №3\")"
   ]
  },
  {
   "cell_type": "code",
   "execution_count": 5,
   "id": "4d7b3cd4",
   "metadata": {},
   "outputs": [
    {
     "name": "stdout",
     "output_type": "stream",
     "text": [
      "Введите номер билета 123321\n",
      "Счастливый билет\n"
     ]
    }
   ],
   "source": [
    "bilet = input('Введите номер билета ')\n",
    "sum1=int(bilet[0])+int(bilet[1])+int(bilet[2])\n",
    "sum2=int(bilet[3])+int(bilet[4])+int(bilet[5])\n",
    "if sum1==sum2:\n",
    "  print('Счастливый билет')\n",
    "else:\n",
    "  print('Несчастливый билет')"
   ]
  },
  {
   "cell_type": "code",
   "execution_count": 6,
   "id": "46c21b14",
   "metadata": {},
   "outputs": [
    {
     "name": "stdout",
     "output_type": "stream",
     "text": [
      "Введите тип фигуры: Круг\n",
      "Введите радиус :10\n",
      "Площадь круга: 314.1592653589793\n"
     ]
    }
   ],
   "source": [
    "import math\n",
    "tip_figury=str(input('Введите тип фигуры: '))\n",
    "if tip_figury=='Круг':\n",
    "    radius=int(input('Введите радиус :'))\n",
    "    area=math.pi*(radius**2)\n",
    "    print('Площадь круга:', area)\n",
    "elif tip_figury=='Треугольник':\n",
    "    a=int(input('Введите длину 1 стороны: '))\n",
    "    b=int(input('Введите длину 2 стороны: '))\n",
    "    c=float(input('Введите длину 3 стороны: '))\n",
    "    p=(a+b+c)/2       \n",
    "    area=math.sqrt((p*(p-a)*(p-b)*(p-c)))\n",
    "    print('Площадь треугольника:', area)\n",
    "elif tip_figury=='Прямоугольник':\n",
    "    a=int(input('Введите длину 1 стороны: '))\n",
    "    b=int(input('Введите длину 2 стороны: '))\n",
    "    area=a*b\n",
    "    print('Площадь прямоугольника:', area)\n",
    "else:\n",
    "    print('Ошибка')"
   ]
  },
  {
   "cell_type": "code",
   "execution_count": null,
   "id": "503fd909",
   "metadata": {},
   "outputs": [],
   "source": []
  },
  {
   "cell_type": "code",
   "execution_count": null,
   "id": "2b0349ee",
   "metadata": {},
   "outputs": [],
   "source": []
  }
 ],
 "metadata": {
  "kernelspec": {
   "display_name": "Python 3 (ipykernel)",
   "language": "python",
   "name": "python3"
  },
  "language_info": {
   "codemirror_mode": {
    "name": "ipython",
    "version": 3
   },
   "file_extension": ".py",
   "mimetype": "text/x-python",
   "name": "python",
   "nbconvert_exporter": "python",
   "pygments_lexer": "ipython3",
   "version": "3.9.7"
  }
 },
 "nbformat": 4,
 "nbformat_minor": 5
}
