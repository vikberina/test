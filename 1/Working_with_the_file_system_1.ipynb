{
 "cells": [
  {
   "cell_type": "code",
   "execution_count": 1,
   "metadata": {},
   "outputs": [],
   "source": [
    "import json\n",
    "import pickle\n",
    "import os\n",
    "import csv\n",
    "from pprint import pprint"
   ]
  },
  {
   "cell_type": "code",
   "execution_count": 2,
   "metadata": {},
   "outputs": [
    {
     "name": "stdout",
     "output_type": "stream",
     "text": [
      "{'user_id': 'category', '1840e0b9d4': 'Продукты', '4e4f90fcfb': 'Электроника', 'afea8d72fc': 'Электроника', '373a6055fe': 'Бытовая техника', '9b2ab046f3': 'Электроника', '9f39d307c3': 'Электроника', '44edeffc91': 'Продукты', '704474fa2d': 'Продукты', '1de31be403': 'Бытовая техника', 'b71f36a5e4': 'Продукты'}\n"
     ]
    }
   ],
   "source": [
    "# задание 1\n",
    "i = 0\n",
    "dic = {}\n",
    "with open ('/Users/vika/Desktop/purchase_log.txt') as f:\n",
    "    for line in f:\n",
    "        line = line.strip()\n",
    "        dict_ = json.loads(line)\n",
    "        key = dict_['user_id']\n",
    "        value = dict_['category']\n",
    "        dic[key] = value\n",
    "                  \n",
    "        i += 1\n",
    "        if i > 10:\n",
    "            break\n",
    "print(dic)"
   ]
  },
  {
   "cell_type": "code",
   "execution_count": 3,
   "metadata": {},
   "outputs": [],
   "source": [
    "# задание 2 \n",
    "\n",
    "# обрабатываем файл purchase_log.txt\n",
    "\n",
    "purchase_dict = {}\n",
    "\n",
    "with open(os.getcwd() + \"/purchase_log.txt\", \"r\") as f: purchase_log = f.readlines()\n",
    "\n",
    "for i in range(1,len(purchase_log)):\n",
    "    #делаем словарь user_id : product_category\n",
    "    purchase_dict[json.loads(purchase_log[i])['user_id']] = json.loads(purchase_log[i])['category']\n",
    "\n",
    "# обрабатываем файл visit_log.csv\n",
    "\n",
    "with open(os.getcwd() + \"/funnel.csv\", \"w\") as funnel_res:\n",
    "    funnel_res_writer = csv.writer(funnel_res)\n",
    "    with open(os.getcwd() + \"/visit_log.csv\", \"r\") as visit_log:\n",
    "        visit_log_reader = csv.reader(visit_log)  \n",
    "        for i, line in enumerate(visit_log_reader):\n",
    "            if i == 0:\n",
    "                funnel_res_writer.writerow([line[0]] + [line[1]] + ['category'])\n",
    "            else:\n",
    "                category_value = purchase_dict.get(line[0], -1)\n",
    "                if category_value != -1:\n",
    "                    funnel_res_writer.writerow([line[0]] + [line[1]] + [category_value])"
   ]
  },
  {
   "cell_type": "code",
   "execution_count": 4,
   "metadata": {},
   "outputs": [],
   "source": [
    "from pprint import pprint\n",
    "import json\n",
    "purchases = {}\n",
    "with open(os.getcwd() + '/purchase_log.txt', 'r') as f:\n",
    "    for line in f:\n",
    "        dict_ = json.loads(line)\n",
    "        a = dict_['user_id']\n",
    "        b = dict_['category']\n",
    "        purchases[a] = b\n",
    "    \n",
    "\n",
    "list_line_1 = [] \n",
    "    \n",
    "with open(os.getcwd() + '/visit_log.csv', 'r') as f:\n",
    "    with open(os.getcwd() + '/funnel_1.csv', 'w') as fwrite:\n",
    "        user_id_purchases = ''\n",
    "        for line in f:\n",
    "            list_line = line.strip().split(',') \n",
    "            user_id_purchases = list_line[0]  \n",
    "            if user_id_purchases in purchases: \n",
    "                list_line_1.append([list_line[0],purchases[user_id_purchases]]) \n",
    "\n",
    "        fwrite.write(str(list_line_1)) "
   ]
  },
  {
   "cell_type": "code",
   "execution_count": null,
   "metadata": {},
   "outputs": [],
   "source": []
  }
 ],
 "metadata": {
  "kernelspec": {
   "display_name": "Python 3",
   "language": "python",
   "name": "python3"
  },
  "language_info": {
   "codemirror_mode": {
    "name": "ipython",
    "version": 3
   },
   "file_extension": ".py",
   "mimetype": "text/x-python",
   "name": "python",
   "nbconvert_exporter": "python",
   "pygments_lexer": "ipython3",
   "version": "3.8.5"
  }
 },
 "nbformat": 4,
 "nbformat_minor": 4
}
