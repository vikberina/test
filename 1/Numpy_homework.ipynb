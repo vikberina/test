{
 "cells": [
  {
   "cell_type": "code",
   "execution_count": 1,
   "metadata": {},
   "outputs": [
    {
     "name": "stdout",
     "output_type": "stream",
     "text": [
      "10\n",
      "результат: [9 8 7 6 5 4 3 2 1 0]\n"
     ]
    }
   ],
   "source": [
    "# задание 1\n",
    "import numpy as np\n",
    "\n",
    "f'введите количество элементов'\n",
    "n=int(input())\n",
    "print('результат: {}'.format(np.arange(n-1, -1,-1)))"
   ]
  },
  {
   "cell_type": "code",
   "execution_count": 2,
   "metadata": {},
   "outputs": [
    {
     "name": "stdout",
     "output_type": "stream",
     "text": [
      "5\n",
      "сумма: 15\n"
     ]
    }
   ],
   "source": [
    "# задание 2\n",
    "f'введите количество элементов'\n",
    "n=int(input())\n",
    "matrix=np.diag(np.arange(n,0,-1))\n",
    "print('сумма: {}'.format(sum(sum(matrix))))"
   ]
  },
  {
   "cell_type": "code",
   "execution_count": 3,
   "metadata": {},
   "outputs": [
    {
     "data": {
      "text/plain": [
       "array([ 0.46666667,  3.84444444, -5.55555556])"
      ]
     },
     "execution_count": 3,
     "metadata": {},
     "output_type": "execute_result"
    }
   ],
   "source": [
    "# задание 3\n",
    "# Решите систему уравнений:\n",
    "# 4x + 2y + z = 4\n",
    "# x + 3y = 12\n",
    "# 5y + 4z = -3\n",
    "from numpy import linalg\n",
    "a=np.array([[4,2,1],[1,3,0],[0,5,4]])\n",
    "b=np.array([4,12,-3])\n",
    "linalg.solve(a,b)"
   ]
  },
  {
   "cell_type": "code",
   "execution_count": 4,
   "metadata": {},
   "outputs": [],
   "source": [
    "users_stats = np.array(\n",
    "    [\n",
    "        [2, 1, 0, 0, 0, 0],\n",
    "        [1, 1, 2, 1, 0, 0],\n",
    "        [2, 0, 1, 0, 0, 0],\n",
    "        [1, 1, 2, 1, 0, 1],\n",
    "        [0, 0, 1, 2, 0, 0],\n",
    "        [0, 0, 0, 0, 0, 5],\n",
    "        [1, 0, 0, 0, 0, 0],\n",
    "        [0, 1, 1, 0, 0, 0],\n",
    "        [0, 0, 0, 1, 1, 3],\n",
    "        [1, 0, 0, 2, 1, 4]\n",
    "    ], \n",
    "    np.int32\n",
    ")\n",
    "next_user_stats = np.array([0, 1, 2, 0, 0, 0])"
   ]
  },
  {
   "cell_type": "code",
   "execution_count": 5,
   "metadata": {},
   "outputs": [],
   "source": [
    "a = np.array([2, 1, 0, 0, 0, 0])\n",
    "b = np.array([1, 1, 2, 1, 0, 0])\n",
    "c = np.array([2, 0, 1, 0, 0, 0])\n",
    "d = np.array([1, 1, 2, 1, 0, 1])\n",
    "e = np.array([0, 0, 1, 2, 0, 0])\n",
    "f = np.array([0, 0, 0, 0, 0, 5])\n",
    "g = np.array([1, 0, 0, 0, 0, 0])\n",
    "h = np.array([0, 1, 1, 0, 0, 0])\n",
    "i = np.array([0, 0, 0, 1, 1, 3])\n",
    "j = np.array([1, 0, 0, 2, 1, 4])\n",
    "k = np.array([0, 1, 2, 0, 0, 0])"
   ]
  },
  {
   "cell_type": "code",
   "execution_count": 6,
   "metadata": {},
   "outputs": [],
   "source": [
    "# подсчет косинуса угла между векторами a, k по их координатам\n",
    "def cosine ( a, k ):\n",
    "    aLenght = np.linalg.norm( a )\n",
    "    kLenght = np.linalg.norm( k )\n",
    "    \n",
    "    return np.dot( a, k ) / ( aLenght * kLenght )"
   ]
  },
  {
   "cell_type": "code",
   "execution_count": 7,
   "metadata": {},
   "outputs": [
    {
     "data": {
      "text/plain": [
       "0.19999999999999996"
      ]
     },
     "execution_count": 7,
     "metadata": {},
     "output_type": "execute_result"
    }
   ],
   "source": [
    "cosine ( a, k )"
   ]
  },
  {
   "cell_type": "code",
   "execution_count": 8,
   "metadata": {},
   "outputs": [],
   "source": [
    "# подсчет косинуса угла между векторами b, k по их координатам\n",
    "def cosine ( b, k ):\n",
    "    bLenght = np.linalg.norm( b )\n",
    "    kLenght = np.linalg.norm( k )\n",
    "    \n",
    "    return np.dot( b, k ) / ( bLenght * kLenght )"
   ]
  },
  {
   "cell_type": "code",
   "execution_count": 9,
   "metadata": {},
   "outputs": [
    {
     "data": {
      "text/plain": [
       "0.8451542547285165"
      ]
     },
     "execution_count": 9,
     "metadata": {},
     "output_type": "execute_result"
    }
   ],
   "source": [
    "cosine ( b, k )"
   ]
  },
  {
   "cell_type": "code",
   "execution_count": 10,
   "metadata": {},
   "outputs": [],
   "source": [
    "# подсчет косинуса угла между векторами c, k по их координатам\n",
    "def cosine ( c, k ):\n",
    "    cLenght = np.linalg.norm( c )\n",
    "    kLenght = np.linalg.norm( k )\n",
    "    \n",
    "    return np.dot( c, k ) / ( cLenght * kLenght )"
   ]
  },
  {
   "cell_type": "code",
   "execution_count": 11,
   "metadata": {},
   "outputs": [
    {
     "data": {
      "text/plain": [
       "0.3999999999999999"
      ]
     },
     "execution_count": 11,
     "metadata": {},
     "output_type": "execute_result"
    }
   ],
   "source": [
    "cosine ( c, k )"
   ]
  },
  {
   "cell_type": "code",
   "execution_count": 12,
   "metadata": {},
   "outputs": [],
   "source": [
    "# подсчет косинуса угла между векторами d, k по их координатам\n",
    "def cosine ( d, k ):\n",
    "    dLenght = np.linalg.norm( d )\n",
    "    kLenght = np.linalg.norm( k )\n",
    "    \n",
    "    return np.dot( d, k ) / ( dLenght * kLenght )"
   ]
  },
  {
   "cell_type": "code",
   "execution_count": 13,
   "metadata": {},
   "outputs": [
    {
     "data": {
      "text/plain": [
       "0.7905694150420948"
      ]
     },
     "execution_count": 13,
     "metadata": {},
     "output_type": "execute_result"
    }
   ],
   "source": [
    "cosine ( d, k )"
   ]
  },
  {
   "cell_type": "code",
   "execution_count": 14,
   "metadata": {},
   "outputs": [],
   "source": [
    "# подсчет косинуса угла между векторами e, k по их координатам\n",
    "def cosine ( e, k ):\n",
    "    eLenght = np.linalg.norm( e )\n",
    "    kLenght = np.linalg.norm( k )\n",
    "    \n",
    "    return np.dot( e, k ) / ( eLenght * kLenght )"
   ]
  },
  {
   "cell_type": "code",
   "execution_count": 15,
   "metadata": {},
   "outputs": [
    {
     "data": {
      "text/plain": [
       "0.3999999999999999"
      ]
     },
     "execution_count": 15,
     "metadata": {},
     "output_type": "execute_result"
    }
   ],
   "source": [
    "cosine ( e, k )"
   ]
  },
  {
   "cell_type": "code",
   "execution_count": 16,
   "metadata": {},
   "outputs": [],
   "source": [
    "# подсчет косинуса угла между векторами f, k по их координатам\n",
    "def cosine ( f, k ):\n",
    "    fLenght = np.linalg.norm( f )\n",
    "    kLenght = np.linalg.norm( k )\n",
    "    \n",
    "    return np.dot( f, k ) / ( fLenght * kLenght )"
   ]
  },
  {
   "cell_type": "code",
   "execution_count": 17,
   "metadata": {},
   "outputs": [
    {
     "data": {
      "text/plain": [
       "0.0"
      ]
     },
     "execution_count": 17,
     "metadata": {},
     "output_type": "execute_result"
    }
   ],
   "source": [
    "cosine ( f, k )"
   ]
  },
  {
   "cell_type": "code",
   "execution_count": 18,
   "metadata": {},
   "outputs": [],
   "source": [
    "# подсчет косинуса угла между векторами h, k по их координатам\n",
    "def cosine ( h, k ):\n",
    "    hLenght = np.linalg.norm( h )\n",
    "    kLenght = np.linalg.norm( k )\n",
    "    \n",
    "    return np.dot( h, k ) / ( hLenght * kLenght )"
   ]
  },
  {
   "cell_type": "code",
   "execution_count": 19,
   "metadata": {},
   "outputs": [
    {
     "data": {
      "text/plain": [
       "0.9486832980505138"
      ]
     },
     "execution_count": 19,
     "metadata": {},
     "output_type": "execute_result"
    }
   ],
   "source": [
    "cosine ( h, k )\n",
    "# ближе всего к искомому"
   ]
  },
  {
   "cell_type": "code",
   "execution_count": 20,
   "metadata": {},
   "outputs": [],
   "source": [
    "# подсчет косинуса угла между векторами i, k по их координатам\n",
    "def cosine ( i, k ):\n",
    "    iLenght = np.linalg.norm( i )\n",
    "    kLenght = np.linalg.norm( k )\n",
    "    \n",
    "    return np.dot( i, k ) / ( iLenght * kLenght )"
   ]
  },
  {
   "cell_type": "code",
   "execution_count": 21,
   "metadata": {},
   "outputs": [
    {
     "data": {
      "text/plain": [
       "0.0"
      ]
     },
     "execution_count": 21,
     "metadata": {},
     "output_type": "execute_result"
    }
   ],
   "source": [
    "cosine ( i, k )"
   ]
  },
  {
   "cell_type": "code",
   "execution_count": 22,
   "metadata": {},
   "outputs": [],
   "source": [
    "# подсчет косинуса угла между векторами j, k по их координатам\n",
    "def cosine ( j, k ):\n",
    "    jLenght = np.linalg.norm( j )\n",
    "    kLenght = np.linalg.norm( k )\n",
    "    \n",
    "    return np.dot( j, k ) / ( jLenght * kLenght )"
   ]
  },
  {
   "cell_type": "code",
   "execution_count": 23,
   "metadata": {},
   "outputs": [
    {
     "data": {
      "text/plain": [
       "0.0"
      ]
     },
     "execution_count": 23,
     "metadata": {},
     "output_type": "execute_result"
    }
   ],
   "source": [
    "cosine ( j, k )"
   ]
  },
  {
   "cell_type": "code",
   "execution_count": 43,
   "metadata": {},
   "outputs": [],
   "source": [
    "# пыталась сделать короче, но выдает уже другой ответ. Не могу понять как сделать так, чтобы применить cosine к каждой строке матрицы users_stats\n",
    "def cosine( users_stats, next_user_stats ):\n",
    "    # длины векторов\n",
    "    users_stats_Length = np.linalg.norm( users_stats )\n",
    "    next_user_stats_Length = np.linalg.norm( next_user_stats )\n",
    "    \n",
    "    return np.dot( users_stats, next_user_stats ) / ( users_stats_Length * next_user_stats_Length )"
   ]
  },
  {
   "cell_type": "code",
   "execution_count": 44,
   "metadata": {},
   "outputs": [
    {
     "data": {
      "text/plain": [
       "array([0.04688072, 0.23440362, 0.09376145, 0.23440362, 0.09376145,\n",
       "       0.        , 0.        , 0.14064217, 0.        , 0.        ])"
      ]
     },
     "execution_count": 44,
     "metadata": {},
     "output_type": "execute_result"
    }
   ],
   "source": [
    "cosine ( users_stats, next_user_stats )"
   ]
  },
  {
   "cell_type": "code",
   "execution_count": null,
   "metadata": {},
   "outputs": [],
   "source": []
  }
 ],
 "metadata": {
  "kernelspec": {
   "display_name": "Python 3",
   "language": "python",
   "name": "python3"
  },
  "language_info": {
   "codemirror_mode": {
    "name": "ipython",
    "version": 3
   },
   "file_extension": ".py",
   "mimetype": "text/x-python",
   "name": "python",
   "nbconvert_exporter": "python",
   "pygments_lexer": "ipython3",
   "version": "3.8.5"
  }
 },
 "nbformat": 4,
 "nbformat_minor": 4
}
