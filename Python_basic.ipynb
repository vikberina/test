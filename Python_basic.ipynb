{
 "cells": [
  {
   "cell_type": "code",
   "execution_count": 1,
   "metadata": {},
   "outputs": [
    {
     "name": "stdout",
     "output_type": "stream",
     "text": [
      "Фраза 1 длиннее фразы 2\n"
     ]
    }
   ],
   "source": [
    "phrase_1 = 'Насколько проще было бы писать программы, если бы не заказчики'\n",
    "phrase_2 = '640Кб должно хватить для любых задач. Билл Гейтс (по легенде)'\n",
    "if len (phrase_1) > len (phrase_2):\n",
    "    print ('Фраза 1 длиннее фразы 2')"
   ]
  },
  {
   "cell_type": "code",
   "execution_count": 2,
   "metadata": {},
   "outputs": [
    {
     "name": "stdout",
     "output_type": "stream",
     "text": [
      "Фраза 2 длиннее фразы 1\n"
     ]
    }
   ],
   "source": [
    "phrase_1 = '640Кб должно хватить для любых задач. Билл Гейтс (по легенде)'\n",
    "phrase_2 = 'Насколько проще было бы писать программы, если бы не заказчики'\n",
    "if len (phrase_2) > len (phrase_1):\n",
    "    print ('Фраза 2 длиннее фразы 1')"
   ]
  },
  {
   "cell_type": "code",
   "execution_count": 3,
   "metadata": {},
   "outputs": [
    {
     "name": "stdout",
     "output_type": "stream",
     "text": [
      "Фразы равной длины\n"
     ]
    }
   ],
   "source": [
    "phrase_1 = 'Насколько проще было бы писать программы, если бы не заказчики'\n",
    "phrase_2 = 'Насколько проще было бы писать программы, если бы не заказчики'\n",
    "if len (phrase_1) == len (phrase_2):\n",
    "    print ('Фразы равной длины')"
   ]
  },
  {
   "cell_type": "code",
   "execution_count": 4,
   "metadata": {},
   "outputs": [
    {
     "name": "stdout",
     "output_type": "stream",
     "text": [
      "введите год2019\n",
      "Обычный год\n"
     ]
    }
   ],
   "source": [
    "year = int (input(\"введите год\"))\n",
    "if (year % 4 == 0 and year % 100 != 0) or (year % 400 == 0):\n",
    "    print ('Високосный год')\n",
    "else:\n",
    "    print ('Обычный год')"
   ]
  },
  {
   "cell_type": "code",
   "execution_count": 5,
   "metadata": {},
   "outputs": [
    {
     "name": "stdout",
     "output_type": "stream",
     "text": [
      "Введите день рождения:18\n",
      "Введите месяц рождения:01\n",
      "Ваш знак зодиака: Козерог\n"
     ]
    }
   ],
   "source": [
    "date = int (input(\"Введите день рождения:\"))\n",
    "month = int (input(\"Введите месяц рождения:\"))\n",
    "if (date >= 21 and date <= 31 and month == 3) or (month == 4 and date >= 1 and date <= 20):\n",
    "   print (\"Ваш знак зодиака: Овен\")\n",
    "elif (date >= 21 and date <= 30 and month == 4) or (month == 5 and date >= 1 and date <= 21):\n",
    "   print (\"Ваш знак зодиака: Телец\")\n",
    "elif (date >= 22 and date <= 31 and month == 5) or (month == 6 and date >= 1 and date <= 21):\n",
    "   print (\"Ваш знак зодиака: Близнецы\")\n",
    "elif (date >= 22 and date <= 30 and month == 6) or (month == 7 and date >= 1 and date <= 22):\n",
    "   print (\"Ваш знак зодиака: Рак\")\n",
    "elif (date >= 23 and date <= 31 and month == 7) or (month == 8 and date >= 1 and date <= 22):\n",
    "   print (\"Ваш знак зодиака: Лев\")\n",
    "elif (date >= 23 and date <= 31 and month == 8) or (month == 9 and date >= 1 and date <= 22):\n",
    "   print (\"Ваш знак зодиака: Дева\")\n",
    "elif (date >= 23 and date <= 30 and month == 9) or (month == 10 and date >= 1 and date <= 22):\n",
    "   print (\"Ваш знак зодиака: Весы\")\n",
    "elif (date >= 23 and date <= 31 and month == 10) or (month == 11 and date >= 1 and date <= 22):\n",
    "   print (\"Ваш знак зодиака: Скорпион\")\n",
    "elif (date >= 23 and date <= 30 and month == 11) or (month == 12 and date >= 1 and date <= 21):\n",
    "   print (\"Ваш знак зодиака: Стрелец\")\n",
    "elif (date >= 22 and date <= 31 and month == 12) or (month == 1 and date >= 1 and date <= 20):\n",
    "   print (\"Ваш знак зодиака: Козерог\")\n",
    "elif (date >= 21 and date <= 31 and month == 1) or (month == 2 and date >= 1 and date <= 19):\n",
    "   print (\"Ваш знак зодиака: Водолей\")\n",
    "elif (date >= 20 and date <= 29 and month == 2) or (month == 3 and date >= 1 and date <= 20):\n",
    "   print (\"Ваш знак зодиака: Рыбы\")"
   ]
  },
  {
   "cell_type": "code",
   "execution_count": 6,
   "metadata": {},
   "outputs": [
    {
     "name": "stdout",
     "output_type": "stream",
     "text": [
      "Введите ширину:15\n",
      "Введите длину:50\n",
      "Введите высоту:15\n",
      "Стандартная коробка №3\n"
     ]
    }
   ],
   "source": [
    "width = int (input(\"Введите ширину:\"))\n",
    "length = int (input(\"Введите длину:\"))\n",
    "height = int (input(\"Введите высоту:\"))\n",
    "if (width < 15 and length < 15 and height < 15):\n",
    "    print (\"Коробка №1\")\n",
    "elif (width > 15 and width < 50) or (length > 15 and length < 50) or (height > 15 and height < 50):\n",
    "    print (\"Коробка №2\")\n",
    "elif (width > 15 and width < 50) or (length > 200) or (height > 15 and height < 50):\n",
    "    print (\"Упаковка для лыж\")\n",
    "else:\n",
    "    print (\"Стандартная коробка №3\")"
   ]
  },
  {
   "cell_type": "code",
   "execution_count": null,
   "metadata": {},
   "outputs": [],
   "source": []
  }
 ],
 "metadata": {
  "kernelspec": {
   "display_name": "Python 3",
   "language": "python",
   "name": "python3"
  },
  "language_info": {
   "codemirror_mode": {
    "name": "ipython",
    "version": 3
   },
   "file_extension": ".py",
   "mimetype": "text/x-python",
   "name": "python",
   "nbconvert_exporter": "python",
   "pygments_lexer": "ipython3",
   "version": "3.8.5"
  }
 },
 "nbformat": 4,
 "nbformat_minor": 4
}
